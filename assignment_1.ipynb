{
 "cells": [
  {
   "cell_type": "code",
   "execution_count": null,
   "id": "11ab0222",
   "metadata": {},
   "outputs": [],
   "source": [
    "number_list=[]\n",
    "for i in range(2000,3201):\n",
    "    if (i%7 == 0) & (i%5 != 0):\n",
    "        number_list.append(i)\n",
    "print(number_list)"
   ]
  },
  {
   "cell_type": "code",
   "execution_count": 2,
   "id": "107f2036",
   "metadata": {},
   "outputs": [
    {
     "name": "stdout",
     "output_type": "stream",
     "text": [
      "Enter your first name:\n",
      "Sidd\n",
      "Enter yout last name:\n",
      "Mishra\n",
      "arhsiM ddiS\n"
     ]
    }
   ],
   "source": [
    "first_name = input(\"Enter your first name:\\n\")\n",
    "last_name = input(\"Enter yout last name:\\n\")\n",
    "name = first_name+\" \"+last_name\n",
    "print(name[(len(name)-1)::-1])"
   ]
  },
  {
   "cell_type": "code",
   "execution_count": 1,
   "id": "34d92d94",
   "metadata": {},
   "outputs": [
    {
     "name": "stdout",
     "output_type": "stream",
     "text": [
      "Volume of the sphere is  7236.864\n"
     ]
    }
   ],
   "source": [
    "r = 12\n",
    "volume = float(4/3)*3.141*(r**3)\n",
    "print(\"Volume of the sphere is \",volume) "
   ]
  },
  {
   "cell_type": "code",
   "execution_count": null,
   "id": "5bcfe098",
   "metadata": {},
   "outputs": [],
   "source": []
  }
 ],
 "metadata": {
  "kernelspec": {
   "display_name": "Python 3",
   "language": "python",
   "name": "python3"
  },
  "language_info": {
   "codemirror_mode": {
    "name": "ipython",
    "version": 3
   },
   "file_extension": ".py",
   "mimetype": "text/x-python",
   "name": "python",
   "nbconvert_exporter": "python",
   "pygments_lexer": "ipython3",
   "version": "3.8.8"
  }
 },
 "nbformat": 4,
 "nbformat_minor": 5
}
